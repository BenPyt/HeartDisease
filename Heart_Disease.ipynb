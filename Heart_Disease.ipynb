{
 "cells": [
  {
   "cell_type": "code",
   "execution_count": 1,
   "id": "68cda323",
   "metadata": {},
   "outputs": [],
   "source": [
    "import numpy as np\n",
    "import pandas as pd\n",
    "import seaborn as sns\n",
    "import matplotlib.pyplot as plt"
   ]
  },
  {
   "cell_type": "markdown",
   "id": "a40eaca1",
   "metadata": {},
   "source": [
    "# EDA"
   ]
  },
  {
   "cell_type": "markdown",
   "id": "fc859ab9",
   "metadata": {},
   "source": [
    "## Khám phá dữ liệu"
   ]
  },
  {
   "cell_type": "code",
   "execution_count": 2,
   "id": "6c5f774a",
   "metadata": {},
   "outputs": [],
   "source": [
    "HD_df = pd.read_csv(\"heart_disease_dataset_400.csv\")"
   ]
  },
  {
   "cell_type": "code",
   "execution_count": 3,
   "id": "0e2a3d2a",
   "metadata": {},
   "outputs": [
    {
     "data": {
      "text/html": [
       "<div>\n",
       "<style scoped>\n",
       "    .dataframe tbody tr th:only-of-type {\n",
       "        vertical-align: middle;\n",
       "    }\n",
       "\n",
       "    .dataframe tbody tr th {\n",
       "        vertical-align: top;\n",
       "    }\n",
       "\n",
       "    .dataframe thead th {\n",
       "        text-align: right;\n",
       "    }\n",
       "</style>\n",
       "<table border=\"1\" class=\"dataframe\">\n",
       "  <thead>\n",
       "    <tr style=\"text-align: right;\">\n",
       "      <th></th>\n",
       "      <th>age</th>\n",
       "      <th>sex</th>\n",
       "      <th>cp</th>\n",
       "      <th>trestbps</th>\n",
       "      <th>chol</th>\n",
       "      <th>fbs</th>\n",
       "      <th>restecg</th>\n",
       "      <th>thalach</th>\n",
       "      <th>exang</th>\n",
       "      <th>oldpeak</th>\n",
       "      <th>slope</th>\n",
       "      <th>ca</th>\n",
       "      <th>thal</th>\n",
       "      <th>target</th>\n",
       "    </tr>\n",
       "  </thead>\n",
       "  <tbody>\n",
       "    <tr>\n",
       "      <th>0</th>\n",
       "      <td>67</td>\n",
       "      <td>0</td>\n",
       "      <td>3</td>\n",
       "      <td>125</td>\n",
       "      <td>522</td>\n",
       "      <td>0</td>\n",
       "      <td>0</td>\n",
       "      <td>126</td>\n",
       "      <td>0</td>\n",
       "      <td>2.8</td>\n",
       "      <td>1</td>\n",
       "      <td>0</td>\n",
       "      <td>1</td>\n",
       "      <td>0</td>\n",
       "    </tr>\n",
       "    <tr>\n",
       "      <th>1</th>\n",
       "      <td>57</td>\n",
       "      <td>1</td>\n",
       "      <td>3</td>\n",
       "      <td>126</td>\n",
       "      <td>137</td>\n",
       "      <td>0</td>\n",
       "      <td>0</td>\n",
       "      <td>84</td>\n",
       "      <td>0</td>\n",
       "      <td>0.9</td>\n",
       "      <td>1</td>\n",
       "      <td>2</td>\n",
       "      <td>1</td>\n",
       "      <td>1</td>\n",
       "    </tr>\n",
       "    <tr>\n",
       "      <th>2</th>\n",
       "      <td>43</td>\n",
       "      <td>0</td>\n",
       "      <td>2</td>\n",
       "      <td>160</td>\n",
       "      <td>220</td>\n",
       "      <td>0</td>\n",
       "      <td>2</td>\n",
       "      <td>98</td>\n",
       "      <td>1</td>\n",
       "      <td>1.1</td>\n",
       "      <td>0</td>\n",
       "      <td>0</td>\n",
       "      <td>3</td>\n",
       "      <td>1</td>\n",
       "    </tr>\n",
       "    <tr>\n",
       "      <th>3</th>\n",
       "      <td>71</td>\n",
       "      <td>1</td>\n",
       "      <td>1</td>\n",
       "      <td>111</td>\n",
       "      <td>427</td>\n",
       "      <td>1</td>\n",
       "      <td>0</td>\n",
       "      <td>148</td>\n",
       "      <td>1</td>\n",
       "      <td>3.1</td>\n",
       "      <td>0</td>\n",
       "      <td>0</td>\n",
       "      <td>1</td>\n",
       "      <td>0</td>\n",
       "    </tr>\n",
       "    <tr>\n",
       "      <th>4</th>\n",
       "      <td>36</td>\n",
       "      <td>1</td>\n",
       "      <td>3</td>\n",
       "      <td>118</td>\n",
       "      <td>511</td>\n",
       "      <td>1</td>\n",
       "      <td>1</td>\n",
       "      <td>200</td>\n",
       "      <td>0</td>\n",
       "      <td>2.6</td>\n",
       "      <td>0</td>\n",
       "      <td>3</td>\n",
       "      <td>1</td>\n",
       "      <td>0</td>\n",
       "    </tr>\n",
       "  </tbody>\n",
       "</table>\n",
       "</div>"
      ],
      "text/plain": [
       "   age  sex  cp  trestbps  chol  fbs  restecg  thalach  exang  oldpeak  slope  \\\n",
       "0   67    0   3       125   522    0        0      126      0      2.8      1   \n",
       "1   57    1   3       126   137    0        0       84      0      0.9      1   \n",
       "2   43    0   2       160   220    0        2       98      1      1.1      0   \n",
       "3   71    1   1       111   427    1        0      148      1      3.1      0   \n",
       "4   36    1   3       118   511    1        1      200      0      2.6      0   \n",
       "\n",
       "   ca  thal  target  \n",
       "0   0     1       0  \n",
       "1   2     1       1  \n",
       "2   0     3       1  \n",
       "3   0     1       0  \n",
       "4   3     1       0  "
      ]
     },
     "execution_count": 3,
     "metadata": {},
     "output_type": "execute_result"
    }
   ],
   "source": [
    "HD_df.head()"
   ]
  },
  {
   "cell_type": "code",
   "execution_count": 4,
   "id": "faa5155b",
   "metadata": {},
   "outputs": [
    {
     "data": {
      "text/html": [
       "<div>\n",
       "<style scoped>\n",
       "    .dataframe tbody tr th:only-of-type {\n",
       "        vertical-align: middle;\n",
       "    }\n",
       "\n",
       "    .dataframe tbody tr th {\n",
       "        vertical-align: top;\n",
       "    }\n",
       "\n",
       "    .dataframe thead th {\n",
       "        text-align: right;\n",
       "    }\n",
       "</style>\n",
       "<table border=\"1\" class=\"dataframe\">\n",
       "  <thead>\n",
       "    <tr style=\"text-align: right;\">\n",
       "      <th></th>\n",
       "      <th>age</th>\n",
       "      <th>sex</th>\n",
       "      <th>cp</th>\n",
       "      <th>trestbps</th>\n",
       "      <th>chol</th>\n",
       "      <th>fbs</th>\n",
       "      <th>restecg</th>\n",
       "      <th>thalach</th>\n",
       "      <th>exang</th>\n",
       "      <th>oldpeak</th>\n",
       "      <th>slope</th>\n",
       "      <th>ca</th>\n",
       "      <th>thal</th>\n",
       "      <th>target</th>\n",
       "    </tr>\n",
       "  </thead>\n",
       "  <tbody>\n",
       "    <tr>\n",
       "      <th>395</th>\n",
       "      <td>42</td>\n",
       "      <td>1</td>\n",
       "      <td>3</td>\n",
       "      <td>127</td>\n",
       "      <td>531</td>\n",
       "      <td>1</td>\n",
       "      <td>1</td>\n",
       "      <td>103</td>\n",
       "      <td>1</td>\n",
       "      <td>2.425540</td>\n",
       "      <td>2</td>\n",
       "      <td>2</td>\n",
       "      <td>2</td>\n",
       "      <td>1</td>\n",
       "    </tr>\n",
       "    <tr>\n",
       "      <th>396</th>\n",
       "      <td>36</td>\n",
       "      <td>0</td>\n",
       "      <td>0</td>\n",
       "      <td>127</td>\n",
       "      <td>266</td>\n",
       "      <td>1</td>\n",
       "      <td>1</td>\n",
       "      <td>128</td>\n",
       "      <td>0</td>\n",
       "      <td>0.000000</td>\n",
       "      <td>1</td>\n",
       "      <td>1</td>\n",
       "      <td>3</td>\n",
       "      <td>1</td>\n",
       "    </tr>\n",
       "    <tr>\n",
       "      <th>397</th>\n",
       "      <td>62</td>\n",
       "      <td>0</td>\n",
       "      <td>3</td>\n",
       "      <td>126</td>\n",
       "      <td>561</td>\n",
       "      <td>0</td>\n",
       "      <td>1</td>\n",
       "      <td>82</td>\n",
       "      <td>0</td>\n",
       "      <td>3.851519</td>\n",
       "      <td>1</td>\n",
       "      <td>0</td>\n",
       "      <td>1</td>\n",
       "      <td>0</td>\n",
       "    </tr>\n",
       "    <tr>\n",
       "      <th>398</th>\n",
       "      <td>68</td>\n",
       "      <td>1</td>\n",
       "      <td>0</td>\n",
       "      <td>140</td>\n",
       "      <td>237</td>\n",
       "      <td>1</td>\n",
       "      <td>0</td>\n",
       "      <td>156</td>\n",
       "      <td>0</td>\n",
       "      <td>1.125925</td>\n",
       "      <td>2</td>\n",
       "      <td>1</td>\n",
       "      <td>3</td>\n",
       "      <td>1</td>\n",
       "    </tr>\n",
       "    <tr>\n",
       "      <th>399</th>\n",
       "      <td>66</td>\n",
       "      <td>1</td>\n",
       "      <td>2</td>\n",
       "      <td>107</td>\n",
       "      <td>163</td>\n",
       "      <td>1</td>\n",
       "      <td>0</td>\n",
       "      <td>111</td>\n",
       "      <td>1</td>\n",
       "      <td>5.390264</td>\n",
       "      <td>0</td>\n",
       "      <td>1</td>\n",
       "      <td>1</td>\n",
       "      <td>0</td>\n",
       "    </tr>\n",
       "  </tbody>\n",
       "</table>\n",
       "</div>"
      ],
      "text/plain": [
       "     age  sex  cp  trestbps  chol  fbs  restecg  thalach  exang   oldpeak  \\\n",
       "395   42    1   3       127   531    1        1      103      1  2.425540   \n",
       "396   36    0   0       127   266    1        1      128      0  0.000000   \n",
       "397   62    0   3       126   561    0        1       82      0  3.851519   \n",
       "398   68    1   0       140   237    1        0      156      0  1.125925   \n",
       "399   66    1   2       107   163    1        0      111      1  5.390264   \n",
       "\n",
       "     slope  ca  thal  target  \n",
       "395      2   2     2       1  \n",
       "396      1   1     3       1  \n",
       "397      1   0     1       0  \n",
       "398      2   1     3       1  \n",
       "399      0   1     1       0  "
      ]
     },
     "execution_count": 4,
     "metadata": {},
     "output_type": "execute_result"
    }
   ],
   "source": [
    "HD_df.tail()"
   ]
  },
  {
   "cell_type": "code",
   "execution_count": null,
   "id": "3c6c543c",
   "metadata": {},
   "outputs": [
    {
     "name": "stdout",
     "output_type": "stream",
     "text": [
      "(400, 14)\n",
      "Dataset có 150 dòng và 14 cột\n"
     ]
    }
   ],
   "source": [
    "print(HD_df.shape)\n",
    "\n",
    "print(\"Dataset có 400 dòng và 14 cột\")"
   ]
  },
  {
   "cell_type": "code",
   "execution_count": 6,
   "id": "2a6e7f92",
   "metadata": {},
   "outputs": [
    {
     "name": "stdout",
     "output_type": "stream",
     "text": [
      "age         0\n",
      "sex         0\n",
      "cp          0\n",
      "trestbps    0\n",
      "chol        0\n",
      "fbs         0\n",
      "restecg     0\n",
      "thalach     0\n",
      "exang       0\n",
      "oldpeak     0\n",
      "slope       0\n",
      "ca          0\n",
      "thal        0\n",
      "target      0\n",
      "dtype: int64\n",
      "----------\n",
      "Không có giá trị null ở tất cả các cột\n"
     ]
    }
   ],
   "source": [
    "print(HD_df.isnull().sum())\n",
    "print(\"----------\")\n",
    "print(\"Không có giá trị null ở tất cả các cột\")"
   ]
  },
  {
   "cell_type": "code",
   "execution_count": 7,
   "id": "b5689a06",
   "metadata": {},
   "outputs": [
    {
     "data": {
      "text/plain": [
       "age           int64\n",
       "sex           int64\n",
       "cp            int64\n",
       "trestbps      int64\n",
       "chol          int64\n",
       "fbs           int64\n",
       "restecg       int64\n",
       "thalach       int64\n",
       "exang         int64\n",
       "oldpeak     float64\n",
       "slope         int64\n",
       "ca            int64\n",
       "thal          int64\n",
       "target        int64\n",
       "dtype: object"
      ]
     },
     "execution_count": 7,
     "metadata": {},
     "output_type": "execute_result"
    }
   ],
   "source": [
    "HD_df.dtypes"
   ]
  },
  {
   "cell_type": "code",
   "execution_count": 8,
   "id": "e6aef099",
   "metadata": {},
   "outputs": [
    {
     "name": "stdout",
     "output_type": "stream",
     "text": [
      "Các cột phân loại: \n",
      "------------------------------------------------------------\n"
     ]
    },
    {
     "data": {
      "text/html": [
       "<div>\n",
       "<style scoped>\n",
       "    .dataframe tbody tr th:only-of-type {\n",
       "        vertical-align: middle;\n",
       "    }\n",
       "\n",
       "    .dataframe tbody tr th {\n",
       "        vertical-align: top;\n",
       "    }\n",
       "\n",
       "    .dataframe thead th {\n",
       "        text-align: right;\n",
       "    }\n",
       "</style>\n",
       "<table border=\"1\" class=\"dataframe\">\n",
       "  <thead>\n",
       "    <tr style=\"text-align: right;\">\n",
       "      <th></th>\n",
       "      <th>sex</th>\n",
       "      <th>cp</th>\n",
       "      <th>fbs</th>\n",
       "      <th>restecg</th>\n",
       "      <th>exang</th>\n",
       "      <th>slope</th>\n",
       "      <th>ca</th>\n",
       "      <th>thal</th>\n",
       "      <th>target</th>\n",
       "    </tr>\n",
       "  </thead>\n",
       "  <tbody>\n",
       "    <tr>\n",
       "      <th>0</th>\n",
       "      <td>0</td>\n",
       "      <td>3</td>\n",
       "      <td>0</td>\n",
       "      <td>0</td>\n",
       "      <td>0</td>\n",
       "      <td>1</td>\n",
       "      <td>0</td>\n",
       "      <td>1</td>\n",
       "      <td>0</td>\n",
       "    </tr>\n",
       "    <tr>\n",
       "      <th>1</th>\n",
       "      <td>1</td>\n",
       "      <td>3</td>\n",
       "      <td>0</td>\n",
       "      <td>0</td>\n",
       "      <td>0</td>\n",
       "      <td>1</td>\n",
       "      <td>2</td>\n",
       "      <td>1</td>\n",
       "      <td>1</td>\n",
       "    </tr>\n",
       "    <tr>\n",
       "      <th>2</th>\n",
       "      <td>0</td>\n",
       "      <td>2</td>\n",
       "      <td>0</td>\n",
       "      <td>2</td>\n",
       "      <td>1</td>\n",
       "      <td>0</td>\n",
       "      <td>0</td>\n",
       "      <td>3</td>\n",
       "      <td>1</td>\n",
       "    </tr>\n",
       "    <tr>\n",
       "      <th>3</th>\n",
       "      <td>1</td>\n",
       "      <td>1</td>\n",
       "      <td>1</td>\n",
       "      <td>0</td>\n",
       "      <td>1</td>\n",
       "      <td>0</td>\n",
       "      <td>0</td>\n",
       "      <td>1</td>\n",
       "      <td>0</td>\n",
       "    </tr>\n",
       "    <tr>\n",
       "      <th>4</th>\n",
       "      <td>1</td>\n",
       "      <td>3</td>\n",
       "      <td>1</td>\n",
       "      <td>1</td>\n",
       "      <td>0</td>\n",
       "      <td>0</td>\n",
       "      <td>3</td>\n",
       "      <td>1</td>\n",
       "      <td>0</td>\n",
       "    </tr>\n",
       "  </tbody>\n",
       "</table>\n",
       "</div>"
      ],
      "text/plain": [
       "   sex  cp  fbs  restecg  exang  slope  ca  thal  target\n",
       "0    0   3    0        0      0      1   0     1       0\n",
       "1    1   3    0        0      0      1   2     1       1\n",
       "2    0   2    0        2      1      0   0     3       1\n",
       "3    1   1    1        0      1      0   0     1       0\n",
       "4    1   3    1        1      0      0   3     1       0"
      ]
     },
     "execution_count": 8,
     "metadata": {},
     "output_type": "execute_result"
    }
   ],
   "source": [
    "HD_df_Cat = HD_df[['sex', 'cp', 'fbs', 'restecg', 'exang', 'slope', 'ca', 'thal', 'target']]\n",
    "print(\"Các cột phân loại: \")\n",
    "print(\"------------------------------------------------------------\")\n",
    "HD_df_Cat.head()"
   ]
  },
  {
   "cell_type": "code",
   "execution_count": 9,
   "id": "2ccb9224",
   "metadata": {},
   "outputs": [
    {
     "name": "stdout",
     "output_type": "stream",
     "text": [
      "Các cột dạng số: \n",
      "------------------------------------------------------------\n"
     ]
    },
    {
     "data": {
      "text/html": [
       "<div>\n",
       "<style scoped>\n",
       "    .dataframe tbody tr th:only-of-type {\n",
       "        vertical-align: middle;\n",
       "    }\n",
       "\n",
       "    .dataframe tbody tr th {\n",
       "        vertical-align: top;\n",
       "    }\n",
       "\n",
       "    .dataframe thead th {\n",
       "        text-align: right;\n",
       "    }\n",
       "</style>\n",
       "<table border=\"1\" class=\"dataframe\">\n",
       "  <thead>\n",
       "    <tr style=\"text-align: right;\">\n",
       "      <th></th>\n",
       "      <th>age</th>\n",
       "      <th>trestbps</th>\n",
       "      <th>chol</th>\n",
       "      <th>thalach</th>\n",
       "      <th>oldpeak</th>\n",
       "    </tr>\n",
       "  </thead>\n",
       "  <tbody>\n",
       "    <tr>\n",
       "      <th>0</th>\n",
       "      <td>67</td>\n",
       "      <td>125</td>\n",
       "      <td>522</td>\n",
       "      <td>126</td>\n",
       "      <td>2.8</td>\n",
       "    </tr>\n",
       "    <tr>\n",
       "      <th>1</th>\n",
       "      <td>57</td>\n",
       "      <td>126</td>\n",
       "      <td>137</td>\n",
       "      <td>84</td>\n",
       "      <td>0.9</td>\n",
       "    </tr>\n",
       "    <tr>\n",
       "      <th>2</th>\n",
       "      <td>43</td>\n",
       "      <td>160</td>\n",
       "      <td>220</td>\n",
       "      <td>98</td>\n",
       "      <td>1.1</td>\n",
       "    </tr>\n",
       "    <tr>\n",
       "      <th>3</th>\n",
       "      <td>71</td>\n",
       "      <td>111</td>\n",
       "      <td>427</td>\n",
       "      <td>148</td>\n",
       "      <td>3.1</td>\n",
       "    </tr>\n",
       "    <tr>\n",
       "      <th>4</th>\n",
       "      <td>36</td>\n",
       "      <td>118</td>\n",
       "      <td>511</td>\n",
       "      <td>200</td>\n",
       "      <td>2.6</td>\n",
       "    </tr>\n",
       "  </tbody>\n",
       "</table>\n",
       "</div>"
      ],
      "text/plain": [
       "   age  trestbps  chol  thalach  oldpeak\n",
       "0   67       125   522      126      2.8\n",
       "1   57       126   137       84      0.9\n",
       "2   43       160   220       98      1.1\n",
       "3   71       111   427      148      3.1\n",
       "4   36       118   511      200      2.6"
      ]
     },
     "execution_count": 9,
     "metadata": {},
     "output_type": "execute_result"
    }
   ],
   "source": [
    "HD_df_Num = HD_df[['age', 'trestbps', 'chol', 'thalach', 'oldpeak']]\n",
    "print(\"Các cột dạng số: \")\n",
    "print(\"------------------------------------------------------------\")\n",
    "HD_df_Num.head()"
   ]
  },
  {
   "cell_type": "markdown",
   "id": "c501449a",
   "metadata": {},
   "source": [
    "## Phân tích tổng quát"
   ]
  },
  {
   "cell_type": "code",
   "execution_count": 10,
   "id": "b866fc35",
   "metadata": {},
   "outputs": [
    {
     "name": "stdout",
     "output_type": "stream",
     "text": [
      "Trung bình độ tuổi của bệnh nhân là:  52.7875\n"
     ]
    }
   ],
   "source": [
    "print(\"Trung bình độ tuổi của bệnh nhân là: \", HD_df['age'].mean())"
   ]
  },
  {
   "cell_type": "code",
   "execution_count": 11,
   "id": "81691be1",
   "metadata": {},
   "outputs": [
    {
     "name": "stdout",
     "output_type": "stream",
     "text": [
      "Độ tuổi cao nhất của bệnh nhân mắc bệnh tim:  77\n"
     ]
    }
   ],
   "source": [
    "print(\"Độ tuổi cao nhất của bệnh nhân mắc bệnh tim: \", HD_df['age'].max())"
   ]
  },
  {
   "cell_type": "code",
   "execution_count": 12,
   "id": "2d243876",
   "metadata": {},
   "outputs": [
    {
     "name": "stdout",
     "output_type": "stream",
     "text": [
      "Độ tuổi thấp nhất của bệnh nhân mắc bệnh tim:  29\n"
     ]
    }
   ],
   "source": [
    "print(\"Độ tuổi thấp nhất của bệnh nhân mắc bệnh tim: \", HD_df['age'].min())"
   ]
  },
  {
   "cell_type": "code",
   "execution_count": 13,
   "id": "9fcb2ced",
   "metadata": {},
   "outputs": [
    {
     "name": "stdout",
     "output_type": "stream",
     "text": [
      "Tổng số bệnh nhân nam và nữ (0 = nữ, 1 = nam):\n",
      "0    209\n",
      "1    191\n"
     ]
    }
   ],
   "source": [
    "print(\"Tổng số bệnh nhân nam và nữ (0 = nữ, 1 = nam):\")\n",
    "print(HD_df['sex'].value_counts().to_string())\n"
   ]
  },
  {
   "cell_type": "code",
   "execution_count": 14,
   "id": "759c9f96",
   "metadata": {},
   "outputs": [
    {
     "name": "stdout",
     "output_type": "stream",
     "text": [
      "Kiểu đau ngực phổ biến nhất: \n",
      "3    137\n",
      "0     96\n",
      "2     85\n",
      "1     82\n"
     ]
    }
   ],
   "source": [
    "print(\"Kiểu đau ngực phổ biến nhất: \")\n",
    "print(HD_df['cp'].value_counts().to_string())"
   ]
  },
  {
   "cell_type": "code",
   "execution_count": 15,
   "id": "8840c836",
   "metadata": {},
   "outputs": [
    {
     "name": "stdout",
     "output_type": "stream",
     "text": [
      "Tổng số người có cholesterol cao hơn 300:  232\n"
     ]
    }
   ],
   "source": [
    "print(\"Tổng số người có cholesterol cao hơn 300: \",HD_df[HD_df['chol']>300]['chol'].count())"
   ]
  },
  {
   "cell_type": "code",
   "execution_count": 16,
   "id": "6f42d961",
   "metadata": {},
   "outputs": [
    {
     "name": "stdout",
     "output_type": "stream",
     "text": [
      "Tổng số người có chỉ số đường huyết cao hơn 120 mg/dl lúc đói:  175\n"
     ]
    }
   ],
   "source": [
    "print(\"Tổng số người có chỉ số đường huyết cao hơn 120 mg/dl lúc đói: \", HD_df[HD_df['fbs']==1]['fbs'].count())"
   ]
  },
  {
   "cell_type": "markdown",
   "id": "cbf21ecf",
   "metadata": {},
   "source": [
    "## Phân tích mối quan hệ"
   ]
  },
  {
   "cell_type": "code",
   "execution_count": null,
   "id": "ca3a1431",
   "metadata": {},
   "outputs": [],
   "source": [
    "bins = [20, 30, 40, 50, 60, 70, 80]\n",
    "labels = ['20-29', '30-39', '40-49', '50-59', '60-69', '70-79']\n",
    "\n",
    "age_groups = pd.cut(HD_df['age'], bins=bins, labels=labels, right=False)"
   ]
  },
  {
   "cell_type": "code",
   "execution_count": 18,
   "id": "016cd13d",
   "metadata": {},
   "outputs": [
    {
     "name": "stdout",
     "output_type": "stream",
     "text": [
      "     age        chol\n",
      "0  20-29  363.700000\n",
      "1  30-39  341.556962\n",
      "2  40-49  359.140625\n",
      "3  50-59  319.027778\n",
      "4  60-69  321.794872\n",
      "5  70-79  357.803279\n",
      "----------\n",
      "Nhóm tuổi có cholesterol trung bình cao nhất là từ 20-29\n"
     ]
    }
   ],
   "source": [
    "grouped = HD_df.groupby(age_groups)['chol'].mean().reset_index()\n",
    "print(grouped)\n",
    "print(\"----------\")\n",
    "print(\"Nhóm tuổi có cholesterol trung bình cao nhất là từ 20-29\")"
   ]
  },
  {
   "cell_type": "code",
   "execution_count": 19,
   "id": "13d8a3be",
   "metadata": {},
   "outputs": [
    {
     "data": {
      "image/png": "[encoded data removed]",
      "text/plain": [
       "<Figure size 800x500 with 1 Axes>"
      ]
     },
     "metadata": {},
     "output_type": "display_data"
    }
   ],
   "source": [
    "plt.figure(figsize=(8, 5))\n",
    "sns.barplot(x=grouped['age'], y=grouped['chol'])\n",
    "plt.title(\"Cholesterol trung bình theo nhóm tuổi\")\n",
    "plt.xlabel(\"Nhóm tuổi\")\n",
    "plt.ylabel(\"Cholesterol trung bình\")\n",
    "plt.show()"
   ]
  },
  {
   "cell_type": "code",
   "execution_count": 20,
   "id": "ca9624e9",
   "metadata": {},
   "outputs": [
    {
     "data": {
      "image/png": "[encoded data removed]",
      "text/plain": [
       "<Figure size 640x480 with 1 Axes>"
      ]
     },
     "metadata": {},
     "output_type": "display_data"
    }
   ],
   "source": [
    "sns.scatterplot(data=HD_df, x='trestbps', y='age',hue='sex')\n",
    "plt.show()"
   ]
  },
  {
   "cell_type": "markdown",
   "id": "0b9781d3",
   "metadata": {},
   "source": [
    "##### > Qua đó ta có thể thấy, Huyết Áp và tuổi KHÔNG CÓ mối liên hệ mật thiết\n",
    "\n",
    "##### > Người trẻ có thể có huyết áp cao hoặc người già có thể có huyết áp thấp và ngược lại"
   ]
  },
  {
   "cell_type": "code",
   "execution_count": 21,
   "id": "e6046059",
   "metadata": {},
   "outputs": [
    {
     "data": {
      "image/png": "[encoded data removed]",
      "text/plain": [
       "<Figure size 640x480 with 1 Axes>"
      ]
     },
     "metadata": {},
     "output_type": "display_data"
    },
    {
     "name": "stdout",
     "output_type": "stream",
     "text": [
      "------------------------------------------------------------\n",
      "Số liệu cụ thể\n",
      " fbs       chol\n",
      "   0 341.746667\n",
      "   1 331.960000\n"
     ]
    }
   ],
   "source": [
    "fbs_chol = HD_df.groupby('fbs')['chol'].mean()\n",
    "fbs_chol.plot(kind='bar')\n",
    "\n",
    "plt.xticks([0, 1], ['FBS = 0 (Bình thường)', 'FBS = 1 (Cao)'], rotation=0)\n",
    "plt.title('Cholesterol trung bình theo FBS')\n",
    "plt.ylabel('Cholesterol trung bình')\n",
    "plt.xlabel('FBS')\n",
    "plt.show()\n",
    "print(\"------------------------------------------------------------\")\n",
    "print(\"Số liệu cụ thể\")\n",
    "print(fbs_chol.reset_index().to_string(index=False))"
   ]
  },
  {
   "cell_type": "markdown",
   "id": "2ab6c852",
   "metadata": {},
   "source": [
    "##### > Có thể thấy lượng cholesterol trung bình giữa người có đường huyết cao và người có đường huyết thấp là tương đồng với nhau\n",
    "\n",
    "##### > Vì về cơ bản, cholesterol không phải là đường, nên nó không ảnh hưởng đến đường huyết"
   ]
  },
  {
   "cell_type": "code",
   "execution_count": 22,
   "id": "a025b32c",
   "metadata": {},
   "outputs": [
    {
     "data": {
      "image/png": "[encoded data removed]",
      "text/plain": [
       "<Figure size 640x480 with 1 Axes>"
      ]
     },
     "metadata": {},
     "output_type": "display_data"
    },
    {
     "name": "stdout",
     "output_type": "stream",
     "text": [
      "------------------------------------------------------------\n",
      "Số liệu cụ thể\n",
      "Nam: \n",
      "cp\n",
      "0    47\n",
      "1    36\n",
      "2    41\n",
      "3    67\n",
      " \n",
      "Nữ: \n",
      "cp\n",
      "0    49\n",
      "1    46\n",
      "2    44\n",
      "3    70\n",
      "Name: sex, dtype: int64\n"
     ]
    }
   ],
   "source": [
    "sns.countplot(data=HD_df, x='cp', hue='sex')\n",
    "plt.xlabel(\"Loại đau ngực (cp)\")\n",
    "plt.ylabel(\"Số lượng bệnh nhân\")\n",
    "plt.title(\"Phân bố loại đau ngực theo giới tính\")\n",
    "plt.legend(title=\"Giới tính\", labels=[\"Nữ (0)\", \"Nam (1)\"])\n",
    "plt.show()\n",
    "print(\"------------------------------------------------------------\")\n",
    "print(\"Số liệu cụ thể\")\n",
    "gender_cp = HD_df[[\"cp\", \"sex\"]]\n",
    "print(\"Nam: \")\n",
    "print(gender_cp[gender_cp['sex']==1].groupby('cp')['sex'].count().to_string())\n",
    "print(\" \")\n",
    "print(\"Nữ: \")\n",
    "print(gender_cp[gender_cp['sex']==0].groupby('cp')['sex'].count())"
   ]
  },
  {
   "cell_type": "code",
   "execution_count": null,
   "id": "d2f4587d",
   "metadata": {},
   "outputs": [],
   "source": []
  }
 ],
 "metadata": {
  "kernelspec": {
   "display_name": "Python 3",
   "language": "python",
   "name": "python3"
  },
  "language_info": {
   "codemirror_mode": {
    "name": "ipython",
    "version": 3
   },
   "file_extension": ".py",
   "mimetype": "text/x-python",
   "name": "python",
   "nbconvert_exporter": "python",
   "pygments_lexer": "ipython3",
   "version": "3.11.9"
  }
 },
 "nbformat": 4,
 "nbformat_minor": 5
}
